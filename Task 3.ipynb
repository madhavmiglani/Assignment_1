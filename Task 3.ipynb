{
 "cells": [
  {
   "cell_type": "code",
   "execution_count": null,
   "id": "3a02ce47-e9d4-4d19-9cd5-ba82a9b12194",
   "metadata": {},
   "outputs": [],
   "source": [
    "import numpy as np\n",
    "import pandas as pd\n",
    "import matplotlib.pyplot as plt\n",
    "import matplotlib.image as mpimg\n",
    "\n",
    "# Load the image\n",
    "image_path = r\"C:\\Users\\Madhav\\Desktop\\assign.jpg\"\n",
    "image = mpimg.imread(image_path)\n",
    "\n",
    "# Convert the image to grayscale if it is not already\n",
    "if len(image.shape) == 3:\n",
    "    image_gray = np.dot(image[..., :3], [0.2989, 0.5870, 0.1140])\n",
    "else:\n",
    "    image_gray = image\n",
    "\n",
    "# Display the grayscale image\n",
    "plt.figure(figsize=(6, 6))\n",
    "plt.imshow(image_gray, cmap='gray')\n",
    "plt.title('Grayscale Brain MRI')\n",
    "plt.show()\n",
    "\n",
    "# Manually determine a threshold value\n",
    "threshold_value = 30\n",
    "\n",
    "# Create a binary mask\n",
    "brain_mask = image_gray > threshold_value\n",
    "\n",
    "# Display the binary mask\n",
    "plt.figure(figsize=(6, 6))\n",
    "plt.imshow(brain_mask, cmap='gray')\n",
    "plt.title('Brain Mask')\n",
    "plt.show()\n",
    "\n"
   ]
  },
  {
   "cell_type": "code",
   "execution_count": null,
   "id": "edefe8f6-963f-4c80-b363-394308b1c40b",
   "metadata": {},
   "outputs": [],
   "source": [
    "# Extract pixel coordinates that are part of the brain\n",
    "brain_pixels = np.argwhere(brain_mask)\n",
    "\n",
    "# Extract intensity values of brain pixels\n",
    "brain_intensity_values = image_gray[brain_mask]\n",
    "\n",
    "# Stack the coordinates and intensity values together\n",
    "brain_data = np.column_stack((brain_pixels, brain_intensity_values))\n"
   ]
  },
  {
   "cell_type": "code",
   "execution_count": null,
   "id": "aaa53409-9053-4a7f-8aca-e055608f6677",
   "metadata": {},
   "outputs": [],
   "source": [
    "# Perform K-Means clustering\n",
    "#Centroid initialization\n",
    "def kmeans(data, k, max_iters=100):\n",
    "    centroids_idx = np.random.choice(data.shape[0], k, replace=False)\n",
    "    centroids = data[centroids_idx]\n",
    "    \n",
    "    for _ in range(max_iters):\n",
    "        distances = np.linalg.norm(data[:, None] - centroids, axis=2)\n",
    "        labels = np.argmin(distances, axis=1)\n",
    "        \n",
    "        for i in range(k):\n",
    "            centroids[i] = np.mean(data[labels == i], axis=0)\n",
    "    \n",
    "    return labels, centroids\n",
    "\n",
    "k = 3\n",
    "labels, centroids = kmeans(brain_data, k)\n",
    "\n",
    "# Plot the clustered image\n",
    "plt.figure(figsize=(6, 6))\n",
    "for i in range(k):\n",
    "    plt.scatter(brain_data[labels == i, 1], brain_data[labels == i, 0], s=1, label=f'Cluster {i+1}')\n",
    "plt.title('K-Means Clustering on Brain MRI')\n",
    "plt.xlabel('Intensity')\n",
    "plt.ylabel('Pixel Coordinates')\n",
    "plt.legend()\n",
    "plt.show()\n"
   ]
  }
 ],
 "metadata": {
  "kernelspec": {
   "display_name": "Python 3 (ipykernel)",
   "language": "python",
   "name": "python3"
  },
  "language_info": {
   "codemirror_mode": {
    "name": "ipython",
    "version": 3
   },
   "file_extension": ".py",
   "mimetype": "text/x-python",
   "name": "python",
   "nbconvert_exporter": "python",
   "pygments_lexer": "ipython3",
   "version": "3.12.3"
  }
 },
 "nbformat": 4,
 "nbformat_minor": 5
}
